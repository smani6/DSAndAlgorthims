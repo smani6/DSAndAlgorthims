{
 "cells": [
  {
   "cell_type": "code",
   "execution_count": 1,
   "metadata": {
    "collapsed": true
   },
   "outputs": [],
   "source": [
    "class Node(object):\n",
    "    \n",
    "        def __init__(self,character):\n",
    "            self.character = character\n",
    "            self.leftNode = None\n",
    "            self.middleNode = None\n",
    "            self.rightNode = None\n",
    "            self.value = None"
   ]
  },
  {
   "cell_type": "code",
   "execution_count": 2,
   "metadata": {
    "collapsed": false
   },
   "outputs": [],
   "source": [
    "class TST(object):\n",
    "    \n",
    "    def __init__(self):\n",
    "        self.root_node = None\n",
    "        \n",
    "    def put(self,key,value):\n",
    "        self.root_node = self.putItem(self.root_node,key,value,0)\n",
    "        \n",
    "    def putItem(self,node,key,value,index):\n",
    "        \n",
    "        c = key[index]\n",
    "        \n",
    "        if node == None:\n",
    "            node = Node(c)\n",
    "            \n",
    "        if c < node.character:\n",
    "            node.leftNode = self.putItem(node.leftNode,key,value,index)\n",
    "        elif c > node.character:\n",
    "            node.rightNode = self.putItem(node.rightNode,key,value,index)\n",
    "        elif index < len(key)-1:\n",
    "            node.middleNode = self.putItem(node.middleNode,key,value,index+1)\n",
    "        else:\n",
    "            node.value = value\n",
    "            \n",
    "        return node\n",
    "    \n",
    "    def get(self,key):\n",
    "        node = self.getItem(self.root_node,key,0)\n",
    "        \n",
    "        if node == None:\n",
    "            return None\n",
    "        \n",
    "        return node.value\n",
    "        \n",
    "    def getItem(self,node,key,index):\n",
    "         \n",
    "        if node == None:\n",
    "            return None\n",
    "        \n",
    "        c = key[index]\n",
    "        \n",
    "        if c < node.character:\n",
    "            return self.getItem(node.leftNode, key, index)\n",
    "        elif c > node.character:\n",
    "            return self.getItem(node.rightNode, key, index)\n",
    "        elif index < len(key)-1:\n",
    "            return self.getItem(node.middleNode, key, index+1)\n",
    "        else:\n",
    "            return node\n",
    "        \n",
    "    def traverse(self):\n",
    "        self.traverseTree(self.root_node)\n",
    "        \n",
    "    def traverseTree(self,node):\n",
    "        \n",
    "        if node == None:\n",
    "            return None \n",
    "        \n",
    "        if node.leftNode:\n",
    "            self.traverseTree(node.leftNode)\n",
    "            \n",
    "        print (\"%s\" %node.character)\n",
    "        \n",
    "        if node.rightNode:\n",
    "            self.traverseTree(node.rightNode)\n",
    "        \n",
    "        "
   ]
  },
  {
   "cell_type": "code",
   "execution_count": 3,
   "metadata": {
    "collapsed": true
   },
   "outputs": [],
   "source": [
    "tst = TST()"
   ]
  },
  {
   "cell_type": "code",
   "execution_count": 4,
   "metadata": {
    "collapsed": false
   },
   "outputs": [],
   "source": [
    "tst.put(\"apple\",100)\n",
    "tst.put(\"orange\",200)"
   ]
  },
  {
   "cell_type": "code",
   "execution_count": 5,
   "metadata": {
    "collapsed": false
   },
   "outputs": [
    {
     "data": {
      "text/plain": [
       "100"
      ]
     },
     "execution_count": 5,
     "metadata": {},
     "output_type": "execute_result"
    }
   ],
   "source": [
    "tst.get(\"apple\")"
   ]
  },
  {
   "cell_type": "code",
   "execution_count": 47,
   "metadata": {
    "collapsed": false
   },
   "outputs": [
    {
     "name": "stdout",
     "output_type": "stream",
     "text": [
      "a\n",
      "o\n"
     ]
    }
   ],
   "source": [
    "tst.traverse()"
   ]
  },
  {
   "cell_type": "code",
   "execution_count": null,
   "metadata": {
    "collapsed": true
   },
   "outputs": [],
   "source": []
  }
 ],
 "metadata": {
  "kernelspec": {
   "display_name": "Python 3",
   "language": "python",
   "name": "python3"
  },
  "language_info": {
   "codemirror_mode": {
    "name": "ipython",
    "version": 3
   },
   "file_extension": ".py",
   "mimetype": "text/x-python",
   "name": "python",
   "nbconvert_exporter": "python",
   "pygments_lexer": "ipython3",
   "version": "3.6.0"
  }
 },
 "nbformat": 4,
 "nbformat_minor": 2
}
