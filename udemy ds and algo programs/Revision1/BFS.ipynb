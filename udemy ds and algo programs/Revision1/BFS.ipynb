{
 "cells": [
  {
   "cell_type": "code",
   "execution_count": 10,
   "metadata": {
    "collapsed": true
   },
   "outputs": [],
   "source": [
    "class Node(object):\n",
    "\n",
    "    def __init__(self,name):\n",
    "        self.name = name\n",
    "        self.visited = False\n",
    "        self.predecessor = None\n",
    "        self.adjacencyList = []"
   ]
  },
  {
   "cell_type": "code",
   "execution_count": 15,
   "metadata": {
    "collapsed": true
   },
   "outputs": [],
   "source": [
    "class BFS(object):\n",
    "    \n",
    "    def bfs(self,startVertex):\n",
    "        \n",
    "        q = []\n",
    "        startVertex.visited = True\n",
    "        q.append(startVertex)\n",
    "        \n",
    "        while q:\n",
    "            actualVertex = q.pop(0)\n",
    "            print(\"%s\" %actualVertex.name)\n",
    "            \n",
    "            for neighbour in actualVertex.adjacencyList:\n",
    "                if not neighbour.visited:\n",
    "                    neighbour.visited = True\n",
    "                    neighbour.predecessor = actualVertex\n",
    "                    q.append(neighbour)     "
   ]
  },
  {
   "cell_type": "code",
   "execution_count": 16,
   "metadata": {
    "collapsed": true
   },
   "outputs": [],
   "source": [
    "node1 = Node('A')\n",
    "node2 = Node('B')\n",
    "node3 = Node('C')\n",
    "node4 = Node('D')\n",
    "node5 = Node('E')"
   ]
  },
  {
   "cell_type": "code",
   "execution_count": 17,
   "metadata": {
    "collapsed": true
   },
   "outputs": [],
   "source": [
    "node1.adjacencyList.append(node2)\n",
    "node1.adjacencyList.append(node3) \n",
    "node2.adjacencyList.append(node4)\n",
    "node3.adjacencyList.append(node5)"
   ]
  },
  {
   "cell_type": "code",
   "execution_count": 18,
   "metadata": {
    "collapsed": false
   },
   "outputs": [
    {
     "name": "stdout",
     "output_type": "stream",
     "text": [
      "A\n",
      "B\n",
      "C\n",
      "D\n",
      "E\n"
     ]
    }
   ],
   "source": [
    "bfs = BFS()\n",
    "bfs.bfs(node1)"
   ]
  },
  {
   "cell_type": "code",
   "execution_count": 19,
   "metadata": {
    "collapsed": true
   },
   "outputs": [],
   "source": [
    "from collections import Counter"
   ]
  },
  {
   "cell_type": "code",
   "execution_count": 20,
   "metadata": {
    "collapsed": true
   },
   "outputs": [],
   "source": [
    "inp = \"geyx rdyd mo j hpys ar r cgcvo mlzbl oe kgi vaf wdi t iuqx jachs hhky sqljh za u xbv v ghwe pac ep owmhz f ivx o pff dnmyf nbjsi meuhu da tq uprj zn tdnzk wcxpn pzb vcl xa xkpka xfw opw acgfq e ey uda uybt vaf f owmhz tdnzk mo vaf mo meuhu mlzbl r pac ghwe za da uybt rdyd f xkpka nbjsi xfw geyx mo hhky j t o hhky pac meuhu owmhz xa ar e t ghwe ghwe u wdi sqljh o ar cgcvo xbv xa wdi mo hpys nbjsi pff e\"\n",
    "magazine = inp.split(' ')"
   ]
  },
  {
   "cell_type": "code",
   "execution_count": 21,
   "metadata": {
    "collapsed": true
   },
   "outputs": [],
   "source": [
    "counter = Counter(magazine)"
   ]
  },
  {
   "cell_type": "code",
   "execution_count": 23,
   "metadata": {
    "collapsed": false
   },
   "outputs": [],
   "source": [
    "inp1 = \"za ivx sqljh o rdyd v mlzbl meuhu xkpka mo nbjsi nbjsi ivx da vcl dnmyf vcl ivx rdyd t uprj ghwe ivx kgi e xa pac xbv rdyd vcl u mlzbl uda hpys ar t kgi opw oe mlzbl pff oe r wdi iuqx hpys uda kgi kgi da owmhz xa hpys ey ghwe pac dnmyf meuhu wcxpn xkpka tq u opw jachs rdyd sqljh meuhu ivx f j tq hpys ey geyx xa ghwe f ivx u wcxpn o hhky vcl oe vaf r j zn vaf f pff jachs mo uda uybt vcl ey acgfq jachs vaf\""
   ]
  },
  {
   "cell_type": "code",
   "execution_count": 25,
   "metadata": {
    "collapsed": true
   },
   "outputs": [],
   "source": [
    "ransom = inp1.split(' ')"
   ]
  },
  {
   "cell_type": "code",
   "execution_count": 26,
   "metadata": {
    "collapsed": false
   },
   "outputs": [
    {
     "data": {
      "text/plain": [
       "Counter({'acgfq': 1,\n",
       "         'ar': 3,\n",
       "         'cgcvo': 2,\n",
       "         'da': 2,\n",
       "         'dnmyf': 1,\n",
       "         'e': 3,\n",
       "         'ep': 1,\n",
       "         'ey': 1,\n",
       "         'f': 3,\n",
       "         'geyx': 2,\n",
       "         'ghwe': 4,\n",
       "         'hhky': 3,\n",
       "         'hpys': 2,\n",
       "         'iuqx': 1,\n",
       "         'ivx': 1,\n",
       "         'j': 2,\n",
       "         'jachs': 1,\n",
       "         'kgi': 1,\n",
       "         'meuhu': 3,\n",
       "         'mlzbl': 2,\n",
       "         'mo': 5,\n",
       "         'nbjsi': 3,\n",
       "         'o': 3,\n",
       "         'oe': 1,\n",
       "         'opw': 1,\n",
       "         'owmhz': 3,\n",
       "         'pac': 3,\n",
       "         'pff': 2,\n",
       "         'pzb': 1,\n",
       "         'r': 2,\n",
       "         'rdyd': 2,\n",
       "         'sqljh': 2,\n",
       "         't': 3,\n",
       "         'tdnzk': 2,\n",
       "         'tq': 1,\n",
       "         'u': 2,\n",
       "         'uda': 1,\n",
       "         'uprj': 1,\n",
       "         'uybt': 2,\n",
       "         'v': 1,\n",
       "         'vaf': 3,\n",
       "         'vcl': 1,\n",
       "         'wcxpn': 1,\n",
       "         'wdi': 3,\n",
       "         'xa': 3,\n",
       "         'xbv': 2,\n",
       "         'xfw': 2,\n",
       "         'xkpka': 2,\n",
       "         'za': 2,\n",
       "         'zn': 1})"
      ]
     },
     "execution_count": 26,
     "metadata": {},
     "output_type": "execute_result"
    }
   ],
   "source": [
    "counter"
   ]
  },
  {
   "cell_type": "code",
   "execution_count": 27,
   "metadata": {
    "collapsed": true
   },
   "outputs": [],
   "source": [
    "counter.subtract(ransom)"
   ]
  },
  {
   "cell_type": "code",
   "execution_count": 28,
   "metadata": {
    "collapsed": false
   },
   "outputs": [
    {
     "data": {
      "text/plain": [
       "Counter({'acgfq': 0,\n",
       "         'ar': 2,\n",
       "         'cgcvo': 2,\n",
       "         'da': 0,\n",
       "         'dnmyf': -1,\n",
       "         'e': 2,\n",
       "         'ep': 1,\n",
       "         'ey': -2,\n",
       "         'f': 0,\n",
       "         'geyx': 1,\n",
       "         'ghwe': 1,\n",
       "         'hhky': 2,\n",
       "         'hpys': -2,\n",
       "         'iuqx': 0,\n",
       "         'ivx': -5,\n",
       "         'j': 0,\n",
       "         'jachs': -2,\n",
       "         'kgi': -3,\n",
       "         'meuhu': 0,\n",
       "         'mlzbl': -1,\n",
       "         'mo': 3,\n",
       "         'nbjsi': 1,\n",
       "         'o': 1,\n",
       "         'oe': -2,\n",
       "         'opw': -1,\n",
       "         'owmhz': 2,\n",
       "         'pac': 1,\n",
       "         'pff': 0,\n",
       "         'pzb': 1,\n",
       "         'r': 0,\n",
       "         'rdyd': -2,\n",
       "         'sqljh': 0,\n",
       "         't': 1,\n",
       "         'tdnzk': 2,\n",
       "         'tq': -1,\n",
       "         'u': -1,\n",
       "         'uda': -2,\n",
       "         'uprj': 0,\n",
       "         'uybt': 1,\n",
       "         'v': 0,\n",
       "         'vaf': 0,\n",
       "         'vcl': -4,\n",
       "         'wcxpn': -1,\n",
       "         'wdi': 2,\n",
       "         'xa': 0,\n",
       "         'xbv': 1,\n",
       "         'xfw': 2,\n",
       "         'xkpka': 0,\n",
       "         'za': 1,\n",
       "         'zn': 0})"
      ]
     },
     "execution_count": 28,
     "metadata": {},
     "output_type": "execute_result"
    }
   ],
   "source": [
    "counter"
   ]
  },
  {
   "cell_type": "code",
   "execution_count": null,
   "metadata": {
    "collapsed": true
   },
   "outputs": [],
   "source": []
  }
 ],
 "metadata": {
  "kernelspec": {
   "display_name": "Python 3",
   "language": "python",
   "name": "python3"
  },
  "language_info": {
   "codemirror_mode": {
    "name": "ipython",
    "version": 3
   },
   "file_extension": ".py",
   "mimetype": "text/x-python",
   "name": "python",
   "nbconvert_exporter": "python",
   "pygments_lexer": "ipython3",
   "version": "3.6.0"
  }
 },
 "nbformat": 4,
 "nbformat_minor": 2
}
