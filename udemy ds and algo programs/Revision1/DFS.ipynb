{
 "cells": [
  {
   "cell_type": "code",
   "execution_count": 6,
   "metadata": {
    "collapsed": true
   },
   "outputs": [],
   "source": [
    "class Node(object):\n",
    "    \n",
    "    def __init__(self,name):\n",
    "        self.name = name\n",
    "        self.visited = False\n",
    "        self.adjacencyList = []\n",
    "        self.predecessor = None"
   ]
  },
  {
   "cell_type": "code",
   "execution_count": 7,
   "metadata": {
    "collapsed": true
   },
   "outputs": [],
   "source": [
    "class DFS(object):\n",
    "    \n",
    "    def dfs(self,vertex):\n",
    "        \n",
    "        vertex.visited = True\n",
    "        print(\"%s\" %vertex.name)\n",
    "        \n",
    "        for neighbour in vertex.adjacencyList:\n",
    "            if not neighbour.visited:\n",
    "                self.dfs(neighbour)\n",
    "        "
   ]
  },
  {
   "cell_type": "code",
   "execution_count": 8,
   "metadata": {
    "collapsed": true
   },
   "outputs": [],
   "source": [
    "node1 = Node('A')\n",
    "node2 = Node('B')\n",
    "node3 = Node('C')\n",
    "node4 = Node('D')\n",
    "node5 = Node('E')"
   ]
  },
  {
   "cell_type": "code",
   "execution_count": 9,
   "metadata": {
    "collapsed": false
   },
   "outputs": [],
   "source": [
    "node1.adjacencyList.append(node2)\n",
    "node1.adjacencyList.append(node3) \n",
    "node2.adjacencyList.append(node4)\n",
    "node3.adjacencyList.append(node5)"
   ]
  },
  {
   "cell_type": "code",
   "execution_count": 10,
   "metadata": {
    "collapsed": false
   },
   "outputs": [
    {
     "name": "stdout",
     "output_type": "stream",
     "text": [
      "A\n",
      "B\n",
      "D\n",
      "C\n",
      "E\n"
     ]
    }
   ],
   "source": [
    "dfs = DFS()\n",
    "dfs.dfs(node1)"
   ]
  },
  {
   "cell_type": "code",
   "execution_count": null,
   "metadata": {
    "collapsed": true
   },
   "outputs": [],
   "source": []
  }
 ],
 "metadata": {
  "kernelspec": {
   "display_name": "Python 3",
   "language": "python",
   "name": "python3"
  },
  "language_info": {
   "codemirror_mode": {
    "name": "ipython",
    "version": 3
   },
   "file_extension": ".py",
   "mimetype": "text/x-python",
   "name": "python",
   "nbconvert_exporter": "python",
   "pygments_lexer": "ipython3",
   "version": "3.6.0"
  }
 },
 "nbformat": 4,
 "nbformat_minor": 2
}
