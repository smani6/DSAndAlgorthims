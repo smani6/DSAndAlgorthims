{
 "cells": [
  {
   "cell_type": "code",
   "execution_count": null,
   "metadata": {
    "collapsed": true
   },
   "outputs": [],
   "source": [
    "class MaxHeap(object):\n",
    "    \n",
    "    def __init__(self,items=[]):\n",
    "        self.arr = [0]\n",
    "        for i in items:\n",
    "            self.arr.append(i)\n",
    "            self.__floatUp(len(self.arr)-1)\n",
    "            \n",
    "    def __floatUp(self,index):\n",
    "        parent = index // 2\n",
    "        \n",
    "        if len(self.arr) >= 2:\n",
    "            if self.arr[index] > self.arr[parent]:\n",
    "                self.swap(index,parent)\n",
    "                self.__floatUp(parent)\n",
    "                \n",
    "        else:\n",
    "            return \n",
    "        \n",
    "    def swap(i,j):\n",
    "        self.arr[i],self.arr[j] = self.arr[j],self.arr[i]\n",
    "        \n",
    "    def add(self,item):\n",
    "        self.arr.append(item)\n",
    "        self.__floatUp(len(self.arr)-1)\n",
    "        \n",
    "    def pop(self):\n",
    "        \n",
    "        if len(self.arr) >= 2:\n",
    "            self.swap(1,len(self.arr)-1)\n",
    "            max = self.arr.pop()\n",
    "            self.__bubbleDown(1)\n",
    "            \n",
    "        elif len(self.arr) == 1:\n",
    "            max = self.arr.pop()\n",
    "        else:\n",
    "            max = None\n",
    "        return max\n",
    "    \n",
    "    def __bubbleDown(self,index):\n",
    "        \n",
    "        left = 2*index\n",
    "        right = 2*index + 1\n",
    "        largest = index\n",
    "        if len(arr)>left and self.arr[left] > self.arr[largest]:\n",
    "            largest = left\n",
    "        if len(arr)>right and self.arr[right] > self.arr[right]:\n",
    "            largest = right\n",
    "        if largest != index:\n",
    "            self.swap(largest,index)\n",
    "            self.__bubbleDown(largest)\n",
    "        "
   ]
  }
 ],
 "metadata": {
  "kernelspec": {
   "display_name": "Python 3",
   "language": "python",
   "name": "python3"
  },
  "language_info": {
   "codemirror_mode": {
    "name": "ipython",
    "version": 3
   },
   "file_extension": ".py",
   "mimetype": "text/x-python",
   "name": "python",
   "nbconvert_exporter": "python",
   "pygments_lexer": "ipython3",
   "version": "3.6.0"
  }
 },
 "nbformat": 4,
 "nbformat_minor": 2
}
