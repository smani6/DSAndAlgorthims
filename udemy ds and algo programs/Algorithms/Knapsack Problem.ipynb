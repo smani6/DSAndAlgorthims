{
 "cells": [
  {
   "cell_type": "code",
   "execution_count": 18,
   "metadata": {
    "collapsed": false
   },
   "outputs": [],
   "source": [
    "class Knapsack(object):\n",
    "\n",
    "    def __init__(self, numOfItems, capacityOfKnapsack, weightOfItems, profitOfItems):\n",
    "        self.numOfItems =  numOfItems\n",
    "        self.capacityOfKnapsack = capacityOfKnapsack\n",
    "        self.weightOfItems = weightOfItems\n",
    "        self.profitOfItems = profitOfItems\n",
    "        self.dpTable = [ [0 for j in range(capacityOfKnapsack+1)]  for i in range(numOfItems+1)]\n",
    "\n",
    "    def dynamicProgrammingApproach(self):\n",
    "\n",
    "        for i in range(1,self.numOfItems+1):\n",
    "            for w in range(1,self.capacityOfKnapsack+1):\n",
    "\n",
    "                notTakingItem = self.dpTable[i-1][w]\n",
    "                takingItem = 0\n",
    "\n",
    "                if self.weightOfItems[i] < w:\n",
    "                    takingItem = self.profitOfItems[i] + self.dpTable[i-1][w-self.weightOfItems[i]]\n",
    "\n",
    "                self.dpTable[i][w] = max(notTakingItem,takingItem)\n",
    "\n",
    "    def showResult(self):\n",
    "\n",
    "        print(\"Maximum value %s\" %self.dpTable[self.numOfItems][self.capacityOfKnapsack])\n",
    "\n",
    "        w = self.capacityOfKnapsack\n",
    "        for i in range(self.numOfItems,0,-1):\n",
    "\n",
    "            if self.dpTable[i][w] != 0 and self.dpTable[i][w] != self.dpTable[i-1][w]:\n",
    "                print (\"We take item : %d\" %i)\n",
    "                w = w - self.weightOfItems[i]\n",
    "  "
   ]
  },
  {
   "cell_type": "code",
   "execution_count": 19,
   "metadata": {
    "collapsed": false
   },
   "outputs": [
    {
     "name": "stdout",
     "output_type": "stream",
     "text": [
      "Maximum value 11\n",
      "We take item : 4\n",
      "We take item : 2\n"
     ]
    }
   ],
   "source": [
    "numOfItems = 4\n",
    "capacityOfKnapsack = 7\n",
    "weightOfItems = [0,1,2,3,4]\n",
    "profitOfItems = [0,1,4,5,7]\n",
    "\n",
    "obj = Knapsack(numOfItems,capacityOfKnapsack,weightOfItems,profitOfItems)\n",
    "obj.dynamicProgrammingApproach()\n",
    "obj.showResult()"
   ]
  },
  {
   "cell_type": "code",
   "execution_count": 21,
   "metadata": {
    "collapsed": false
   },
   "outputs": [
    {
     "name": "stdout",
     "output_type": "stream",
     "text": [
      "Maximum value 7\n",
      "We take item : 4\n"
     ]
    }
   ],
   "source": [
    "numOfItems = 4\n",
    "capacityOfKnapsack = 4\n",
    "weightOfItems = [1,4,5,3,2]\n",
    "profitOfItems = [0,1,4,5,7]\n",
    "\n",
    "obj = Knapsack(numOfItems,capacityOfKnapsack,weightOfItems,profitOfItems)\n",
    "obj.dynamicProgrammingApproach()\n",
    "obj.showResult()"
   ]
  },
  {
   "cell_type": "code",
   "execution_count": null,
   "metadata": {
    "collapsed": true
   },
   "outputs": [],
   "source": []
  }
 ],
 "metadata": {
  "kernelspec": {
   "display_name": "Python 3",
   "language": "python",
   "name": "python3"
  },
  "language_info": {
   "codemirror_mode": {
    "name": "ipython",
    "version": 3
   },
   "file_extension": ".py",
   "mimetype": "text/x-python",
   "name": "python",
   "nbconvert_exporter": "python",
   "pygments_lexer": "ipython3",
   "version": "3.6.0"
  }
 },
 "nbformat": 4,
 "nbformat_minor": 2
}
