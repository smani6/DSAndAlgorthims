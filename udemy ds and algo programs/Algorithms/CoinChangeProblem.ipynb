{
 "cells": [
  {
   "cell_type": "code",
   "execution_count": 30,
   "metadata": {
    "collapsed": true
   },
   "outputs": [],
   "source": [
    "class CoinChange(object):\n",
    "    \n",
    "    def __init__(self,coins,M):\n",
    "        self.v = coins\n",
    "        self.M = M\n",
    "        self.len = len(self.v)\n",
    "        self.dpTable = [[0 for j in range(self.M+1)] for i in range(self.len+1)]\n",
    "        \n",
    "    def dynamicProgramming(self):\n",
    "        \n",
    "        for i in range(self.len+1):\n",
    "            self.dpTable[i][0]=1\n",
    "            \n",
    "        for i in range(1,self.len+1):\n",
    "            for j in range(1,self.M+1):\n",
    "                \n",
    "                if self.v[i-1] <= j:\n",
    "                    self.dpTable[i][j] = self.dpTable[i-1][j] + self.dpTable[i][j-self.v[i-1]]\n",
    "                else:\n",
    "                    self.dpTable[i][j] = self.dpTable[i-1][j]\n",
    "                    \n",
    "        print(\"Solution is %d\" %self.dpTable[self.len][self.M])\n",
    "        \n",
    "    def printDpTable(self):\n",
    "        \n",
    "        for i in range(self.len+1):\n",
    "            for j in range(M+1):\n",
    "                print(\"%d  \" %self.dpTable[i][j], end=\"\")\n",
    "                \n",
    "            print(\"\\n\")"
   ]
  },
  {
   "cell_type": "code",
   "execution_count": 31,
   "metadata": {
    "collapsed": true
   },
   "outputs": [],
   "source": [
    "M = 4\n",
    "coins = [1,4, 5, 3, 2]"
   ]
  },
  {
   "cell_type": "code",
   "execution_count": 32,
   "metadata": {
    "collapsed": true
   },
   "outputs": [],
   "source": [
    "obj = CoinChange(coins,M)"
   ]
  },
  {
   "cell_type": "code",
   "execution_count": 33,
   "metadata": {
    "collapsed": false
   },
   "outputs": [
    {
     "name": "stdout",
     "output_type": "stream",
     "text": [
      "Solution is 5\n"
     ]
    }
   ],
   "source": [
    "obj.dynamicProgramming()"
   ]
  },
  {
   "cell_type": "code",
   "execution_count": 34,
   "metadata": {
    "collapsed": false
   },
   "outputs": [
    {
     "name": "stdout",
     "output_type": "stream",
     "text": [
      "1  0  0  0  0  \n",
      "\n",
      "1  1  1  1  1  \n",
      "\n",
      "1  1  1  1  2  \n",
      "\n",
      "1  1  1  1  2  \n",
      "\n",
      "1  1  1  2  3  \n",
      "\n",
      "1  1  2  3  5  \n",
      "\n"
     ]
    }
   ],
   "source": [
    "obj.printDpTable()"
   ]
  },
  {
   "cell_type": "code",
   "execution_count": null,
   "metadata": {
    "collapsed": true
   },
   "outputs": [],
   "source": []
  }
 ],
 "metadata": {
  "kernelspec": {
   "display_name": "Python 3",
   "language": "python",
   "name": "python3"
  },
  "language_info": {
   "codemirror_mode": {
    "name": "ipython",
    "version": 3
   },
   "file_extension": ".py",
   "mimetype": "text/x-python",
   "name": "python",
   "nbconvert_exporter": "python",
   "pygments_lexer": "ipython3",
   "version": "3.6.0"
  }
 },
 "nbformat": 4,
 "nbformat_minor": 2
}
