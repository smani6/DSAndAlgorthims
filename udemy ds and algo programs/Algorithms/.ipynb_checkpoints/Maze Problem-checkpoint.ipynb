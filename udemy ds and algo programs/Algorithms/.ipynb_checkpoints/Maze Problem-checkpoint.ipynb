{
 "cells": [
  {
   "cell_type": "code",
   "execution_count": 11,
   "metadata": {
    "collapsed": true
   },
   "outputs": [],
   "source": [
    "class Maze(object):\n",
    "    \n",
    "    def __init__(self,mazeTable):\n",
    "        self.mazeSize = len(mazeTable)\n",
    "        self.mazeTable = mazeTable\n",
    "        self.solutionTable = [ [0]*self.mazeSize for j in range(self.mazeSize)]\n",
    "        \n",
    "    def solveMaze(self):\n",
    "        \n",
    "        if self.solve(0,0):\n",
    "            self.showResult()\n",
    "        else:\n",
    "            print (\"No feasible solution\")\n",
    "            \n",
    "    def solve(self,x,y):\n",
    "        \n",
    "        if self.isFinished(x,y):\n",
    "            return True\n",
    "        \n",
    "        if self.isValid(x,y):\n",
    "            \n",
    "            self.solutionTable[x][y] = 1\n",
    "            \n",
    "            if self.solve(x+1,y):\n",
    "                return True\n",
    "            \n",
    "            if self.solve(x,y+1):\n",
    "                return True\n",
    "            \n",
    "            if self.solve(x-1,y):\n",
    "                return True\n",
    "            \n",
    "            if self.solve(x,y-1):\n",
    "                return True\n",
    "            \n",
    "            #BackTrack\n",
    "            self.solutionTable[x][y] = 0\n",
    "            \n",
    "        return False\n",
    "    \n",
    "    def isValid(self,x,y):\n",
    "        \n",
    "        if x<0 or x>=self.mazeSize: return False\n",
    "        if y<0 or y>=self.mazeSize : return False\n",
    "        if self.mazeTable[x][y] == 0:\n",
    "            return False\n",
    "        \n",
    "        return True\n",
    "    \n",
    "    def isFinished(self,x,y):\n",
    "        \n",
    "        if x == self.mazeSize-1 and y == self.mazeSize-1:\n",
    "            self.solutionTable[x][y] = 1\n",
    "            return True\n",
    "        \n",
    "        return False\n",
    "    \n",
    "    def showResult(self):\n",
    "        \n",
    "        for i in range(self.mazeSize):\n",
    "            for j in range(self.mazeSize):\n",
    "                if self.solutionTable[i][j] == 1:\n",
    "                    print (\" S \", end=\"\")\n",
    "                else:\n",
    "                    print (\" - \", end = \"\")\n",
    "                \n",
    "            print (\"\\n\")"
   ]
  },
  {
   "cell_type": "code",
   "execution_count": 12,
   "metadata": {
    "collapsed": false
   },
   "outputs": [],
   "source": [
    "mazeTable = [[ 1, 1, 1, 1 ,1],\n",
    "            [ 0, 0, 0, 1, 0],\n",
    "            [ 1, 1, 1, 1, 0],\n",
    "            [ 1, 0, 0, 0, 0],\n",
    "            [ 1, 1, 1, 1, 1]\n",
    "            ]"
   ]
  },
  {
   "cell_type": "code",
   "execution_count": 13,
   "metadata": {
    "collapsed": false
   },
   "outputs": [
    {
     "name": "stdout",
     "output_type": "stream",
     "text": [
      "No feasible solution\n"
     ]
    }
   ],
   "source": [
    "obj = Maze(mazeTable)\n",
    "obj.solveMaze()"
   ]
  },
  {
   "cell_type": "code",
   "execution_count": null,
   "metadata": {
    "collapsed": true
   },
   "outputs": [],
   "source": []
  }
 ],
 "metadata": {
  "kernelspec": {
   "display_name": "Python 3",
   "language": "python",
   "name": "python3"
  },
  "language_info": {
   "codemirror_mode": {
    "name": "ipython",
    "version": 3
   },
   "file_extension": ".py",
   "mimetype": "text/x-python",
   "name": "python",
   "nbconvert_exporter": "python",
   "pygments_lexer": "ipython3",
   "version": "3.6.0"
  }
 },
 "nbformat": 4,
 "nbformat_minor": 2
}
