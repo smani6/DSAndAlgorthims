{
 "cells": [
  {
   "cell_type": "code",
   "execution_count": null,
   "metadata": {
    "collapsed": true
   },
   "outputs": [],
   "source": [
    "class Knapsack(object):\n",
    "    \n",
    "    def __init__(self,numOfItems,capacityOfKnapsack,weightOfItems,profitOfItems):\n",
    "        self.numOfItems = numOfItems\n",
    "        self.capacityOfKnapsack = capacityOfKnapsack\n",
    "        self.weightOfItems = weightOfItems\n",
    "        self.profitOfItems = profitOfItems\n",
    "        self.dpTable = [[0 for j in range(self.capacityOfKnapsack+1)] for i in range(self.numOfItems+1)]\n",
    "        \n",
    "    def dynamicProgramming(self):\n",
    "        \n",
    "        for i in range(1,self.numOfItems+1):\n",
    "            for w in range(1,self.capacityOfKnapsack+1):\n",
    "                \n",
    "                notTakingItem = self.dpTable[i-1][w]\n",
    "                takingItem = 0\n",
    "                \n",
    "                if self.weightOfItems[i] < w:\n",
    "            \n",
    "        "
   ]
  }
 ],
 "metadata": {
  "kernelspec": {
   "display_name": "Python 3",
   "language": "python",
   "name": "python3"
  },
  "language_info": {
   "codemirror_mode": {
    "name": "ipython",
    "version": 3
   },
   "file_extension": ".py",
   "mimetype": "text/x-python",
   "name": "python",
   "nbconvert_exporter": "python",
   "pygments_lexer": "ipython3",
   "version": "3.6.0"
  }
 },
 "nbformat": 4,
 "nbformat_minor": 2
}
