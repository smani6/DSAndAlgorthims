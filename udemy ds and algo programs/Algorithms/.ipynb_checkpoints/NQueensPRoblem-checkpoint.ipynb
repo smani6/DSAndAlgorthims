{
 "cells": [
  {
   "cell_type": "code",
   "execution_count": 19,
   "metadata": {
    "collapsed": true
   },
   "outputs": [],
   "source": [
    "class NQueensProblem(object):\n",
    "    \n",
    "    def __init__(self,num):\n",
    "        self.numOfQueens = num\n",
    "        self.chessTable = [[None for i in range(self.numOfQueens)] for j in range(self.numOfQueens)]\n",
    "        \n",
    "    def solveQueensProblem(self):\n",
    "        \n",
    "        if self.solve(0):\n",
    "            self.printQueens()\n",
    "        else:\n",
    "            print(\"No solution\")\n",
    "            \n",
    "    def solve(self,colIndex):\n",
    "        \n",
    "        if colIndex == self.numOfQueens:\n",
    "            return True\n",
    "        \n",
    "        for rowIndex in range(self.numOfQueens):\n",
    "            \n",
    "            if self.isPlaceValid(rowIndex,colIndex):\n",
    "                \n",
    "                self.chessTable[rowIndex][colIndex] = 1\n",
    "                \n",
    "                if self.solve(colIndex+1):\n",
    "                    return True\n",
    "                \n",
    "                #BackTrack\n",
    "                self.chessTable[rowIndex][colIndex] = 0\n",
    "                \n",
    "        return False\n",
    "    \n",
    "    def isPlaceValid(self,rowIndex, colIndex):\n",
    "        \n",
    "        #same row\n",
    "        for i in range(colIndex):\n",
    "            if self.chessTable[rowIndex][i] == 1:\n",
    "                return False\n",
    "            \n",
    "        # Top left to right bottom\n",
    "        j = colIndex\n",
    "        for i in range(rowIndex,-1,-1):\n",
    "            \n",
    "            if j < 0:\n",
    "                break\n",
    "                \n",
    "            if self.chessTable[i][j] == 1:\n",
    "                return False\n",
    "            \n",
    "            j = j-1\n",
    "            \n",
    "        # Bottom left to top right\n",
    "        j = colIndex\n",
    "        for i in range(rowIndex,len(self.chessTable)):\n",
    "            \n",
    "            if j < 0:\n",
    "                break\n",
    "                \n",
    "            if self.chessTable[i][j] == 1:\n",
    "                return False\n",
    "            \n",
    "            j = j-1\n",
    "            \n",
    "        return True\n",
    "    \n",
    "    def printQueens(self):\n",
    "        \n",
    "        for i in range(self.numOfQueens):\n",
    "            for j in range(self.numOfQueens):\n",
    "                \n",
    "                if self.chessTable[i][j] == 1:\n",
    "                    print (\" * \", end=\"\")\n",
    "                else:\n",
    "                    print (\" - \", end=\"\")\n",
    "                    \n",
    "            print (\"\\n\")"
   ]
  },
  {
   "cell_type": "code",
   "execution_count": 20,
   "metadata": {
    "collapsed": false
   },
   "outputs": [],
   "source": [
    "obj = NQueensProblem(4)"
   ]
  },
  {
   "cell_type": "code",
   "execution_count": 21,
   "metadata": {
    "collapsed": false
   },
   "outputs": [
    {
     "name": "stdout",
     "output_type": "stream",
     "text": [
      " -  -  *  - \n",
      "\n",
      " *  -  -  - \n",
      "\n",
      " -  -  -  * \n",
      "\n",
      " -  *  -  - \n",
      "\n"
     ]
    }
   ],
   "source": [
    "obj.solveQueensProblem()"
   ]
  },
  {
   "cell_type": "code",
   "execution_count": null,
   "metadata": {
    "collapsed": true
   },
   "outputs": [],
   "source": []
  }
 ],
 "metadata": {
  "kernelspec": {
   "display_name": "Python 3",
   "language": "python",
   "name": "python3"
  },
  "language_info": {
   "codemirror_mode": {
    "name": "ipython",
    "version": 3
   },
   "file_extension": ".py",
   "mimetype": "text/x-python",
   "name": "python",
   "nbconvert_exporter": "python",
   "pygments_lexer": "ipython3",
   "version": "3.6.0"
  }
 },
 "nbformat": 4,
 "nbformat_minor": 2
}
