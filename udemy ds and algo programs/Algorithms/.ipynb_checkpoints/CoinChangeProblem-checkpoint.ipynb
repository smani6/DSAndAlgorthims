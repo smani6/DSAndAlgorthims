{
 "cells": [
  {
   "cell_type": "code",
   "execution_count": null,
   "metadata": {
    "collapsed": true
   },
   "outputs": [],
   "source": [
    "class CoinChange(object):\n",
    "    \n",
    "    def __init__(self,coins,M):\n",
    "        self.v = coins\n",
    "        self.M = M\n",
    "        self.len = len(self.v)\n",
    "        self.dpTable = [[0 for j in range(self.M+1)] for i in range(self.len+1)]\n",
    "        \n",
    "    def dynamicProgramming(self):\n",
    "        \n",
    "        for i in range(sel.len+1):\n",
    "            self.dpTable[i][0]=1\n",
    "        "
   ]
  }
 ],
 "metadata": {
  "kernelspec": {
   "display_name": "Python 3",
   "language": "python",
   "name": "python3"
  },
  "language_info": {
   "codemirror_mode": {
    "name": "ipython",
    "version": 3
   },
   "file_extension": ".py",
   "mimetype": "text/x-python",
   "name": "python",
   "nbconvert_exporter": "python",
   "pygments_lexer": "ipython3",
   "version": "3.6.0"
  }
 },
 "nbformat": 4,
 "nbformat_minor": 2
}
