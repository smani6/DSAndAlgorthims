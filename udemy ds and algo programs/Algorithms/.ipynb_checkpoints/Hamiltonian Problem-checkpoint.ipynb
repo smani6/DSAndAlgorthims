{
 "cells": [
  {
   "cell_type": "code",
   "execution_count": 20,
   "metadata": {
    "collapsed": false
   },
   "outputs": [],
   "source": [
    "class Hamiltonian(object):\n",
    "    \n",
    "    def __init__(self,adjacencyMatrix):\n",
    "        self.numOfVertices = len(adjacencyMatrix)\n",
    "        self.hamiltonianPath = [None] * self.numOfVertices\n",
    "        self.adjacencyMatrix = adjacencyMatrix\n",
    "        \n",
    "    def hamiltonianCycle(self):\n",
    "        \n",
    "        self.hamiltonianPath[0] = 0\n",
    "        \n",
    "        if not self.isFeasibleSolution(1):\n",
    "            print (\"No solution\")\n",
    "        else:\n",
    "            self.showHamiltonianPath()\n",
    "            \n",
    "    def isFeasibleSolution(self,position):\n",
    "        \n",
    "        if position == self.numOfVertices:\n",
    "            x = self.hamiltonianPath[position-1]\n",
    "            y = self.hamiltonianPath[0]\n",
    "            if self.adjacencyMatrix[x][y]==1:\n",
    "                return True\n",
    "            else:\n",
    "                return False\n",
    "            \n",
    "        for vertex in range(1,self.numOfVertices):\n",
    "            \n",
    "            if self.isFeasible(vertex,position):\n",
    "                \n",
    "                self.hamiltonianPath[position] = vertex\n",
    "                \n",
    "                if self.isFeasibleSolution(position+1):\n",
    "                    return True\n",
    "                \n",
    "                #BackTrack - check for other vertex's\n",
    "                \n",
    "        return False\n",
    "    \n",
    "    def isFeasible(self,vertex,actualPosition):\n",
    "        \n",
    "        # whether both nodes are connected\n",
    "        if self.adjacencyMatrix[self.hamiltonianPath[actualPosition-1]][vertex] == 0:\n",
    "            return False\n",
    "        \n",
    "        # whether node already in hamiltonian Path\n",
    "        for i in range(actualPosition):\n",
    "            if self.hamiltonianPath[i] == vertex:\n",
    "                return False\n",
    "            \n",
    "        return True\n",
    "            \n",
    "    def showHamiltonianPath(self):\n",
    "        \n",
    "        print (\"Hamiltonian Path exists\")\n",
    "        \n",
    "        for i in range(self.numOfVertices):\n",
    "            print (self.hamiltonianPath[i])\n",
    "            \n",
    "        print(self.hamiltonianPath[0])\n",
    "        "
   ]
  },
  {
   "cell_type": "code",
   "execution_count": 23,
   "metadata": {
    "collapsed": false
   },
   "outputs": [
    {
     "name": "stdout",
     "output_type": "stream",
     "text": [
      "Hamiltonian Path exists\n",
      "0\n",
      "1\n",
      "2\n",
      "0\n"
     ]
    }
   ],
   "source": [
    "adjacencyMatrix = [[0, 1, 0],\n",
    "                   [1, 0, 1],\n",
    "                   [1, 1, 0]\n",
    "                  ]\n",
    "\n",
    "obj = Hamiltonian(adjacencyMatrix)\n",
    "obj.hamiltonianCycle()"
   ]
  },
  {
   "cell_type": "code",
   "execution_count": null,
   "metadata": {
    "collapsed": true
   },
   "outputs": [],
   "source": []
  }
 ],
 "metadata": {
  "kernelspec": {
   "display_name": "Python 3",
   "language": "python",
   "name": "python3"
  },
  "language_info": {
   "codemirror_mode": {
    "name": "ipython",
    "version": 3
   },
   "file_extension": ".py",
   "mimetype": "text/x-python",
   "name": "python",
   "nbconvert_exporter": "python",
   "pygments_lexer": "ipython3",
   "version": "3.6.0"
  }
 },
 "nbformat": 4,
 "nbformat_minor": 2
}
