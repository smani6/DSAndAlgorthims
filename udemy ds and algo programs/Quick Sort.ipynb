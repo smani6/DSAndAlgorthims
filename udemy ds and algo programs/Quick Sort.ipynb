{
 "cells": [
  {
   "cell_type": "code",
   "execution_count": 8,
   "metadata": {
    "collapsed": false
   },
   "outputs": [],
   "source": [
    "def quick_sort(arr,low,high):\n",
    "    \n",
    "    if low >= high:\n",
    "        return\n",
    "    \n",
    "    pivot = partition(arr,low,high)\n",
    "    quick_sort(arr,low,pivot-1)\n",
    "    quick_sort(arr,pivot+1,high)\n",
    "    \n",
    "    return arr\n",
    "\n",
    "def partition(arr,low,high):\n",
    "    \n",
    "    pivotValue = (low+high)//2\n",
    "    swap(arr,pivotValue,high)\n",
    "    \n",
    "    i=low\n",
    "    \n",
    "    for j in range(low, high,1):\n",
    "        if arr[j] <= arr[high]:\n",
    "            swap(arr,i,j)\n",
    "            i += 1\n",
    "            \n",
    "    swap(arr,i,high)\n",
    "    return i\n",
    "\n",
    "def swap(arr,i,j):\n",
    "    arr[i],arr[j] = arr[j],arr[i]"
   ]
  },
  {
   "cell_type": "code",
   "execution_count": 9,
   "metadata": {
    "collapsed": true
   },
   "outputs": [],
   "source": [
    "arr = [-2,-1,0,1,0,-1,-2]"
   ]
  },
  {
   "cell_type": "code",
   "execution_count": 10,
   "metadata": {
    "collapsed": false
   },
   "outputs": [
    {
     "data": {
      "text/plain": [
       "[-2, -2, -1, -1, 0, 0, 1]"
      ]
     },
     "execution_count": 10,
     "metadata": {},
     "output_type": "execute_result"
    }
   ],
   "source": [
    "quick_sort(arr,0,len(arr)-1)"
   ]
  },
  {
   "cell_type": "code",
   "execution_count": null,
   "metadata": {
    "collapsed": true
   },
   "outputs": [],
   "source": []
  }
 ],
 "metadata": {
  "kernelspec": {
   "display_name": "Python 2",
   "language": "python",
   "name": "python2"
  },
  "language_info": {
   "codemirror_mode": {
    "name": "ipython",
    "version": 2
   },
   "file_extension": ".py",
   "mimetype": "text/x-python",
   "name": "python",
   "nbconvert_exporter": "python",
   "pygments_lexer": "ipython2",
   "version": "2.7.13"
  }
 },
 "nbformat": 4,
 "nbformat_minor": 2
}
