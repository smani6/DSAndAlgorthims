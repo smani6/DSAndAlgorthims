{
 "cells": [
  {
   "cell_type": "code",
   "execution_count": 14,
   "metadata": {
    "collapsed": false
   },
   "outputs": [],
   "source": [
    "class Node(object):\n",
    "    \n",
    "    def __init__(self,node):\n",
    "        self.name = node\n",
    "        self.minDistance = 0\n",
    "        self.predecessor = None\n",
    "        self.visited = False\n",
    "        self.adjacencyList = []\n"
   ]
  },
  {
   "cell_type": "code",
   "execution_count": 15,
   "metadata": {
    "collapsed": true
   },
   "outputs": [],
   "source": [
    "class BFS():\n",
    "    \n",
    "    def bfs(self,startVertex):\n",
    "        \n",
    "        q = []\n",
    "        q.append(startVertex)\n",
    "        startVertex.visited = True\n",
    "        \n",
    "        while q:\n",
    "            u = q.pop(0)\n",
    "            print (\"%s \", u.name)\n",
    "            for v in u.adjacencyList:\n",
    "                if not v.visited:\n",
    "                    v.visited = True\n",
    "                    q.append(v)\n",
    "        \n",
    "        "
   ]
  },
  {
   "cell_type": "code",
   "execution_count": 16,
   "metadata": {
    "collapsed": true
   },
   "outputs": [],
   "source": [
    "node1 = Node('A')\n",
    "node2 = Node('B')\n",
    "node3 = Node('C')\n",
    "node4 = Node('D')\n",
    "node5 = Node('E')"
   ]
  },
  {
   "cell_type": "code",
   "execution_count": 17,
   "metadata": {
    "collapsed": false
   },
   "outputs": [],
   "source": [
    "node1.adjacencyList.append(node2)\n",
    "node1.adjacencyList.append(node3) \n",
    "node2.adjacencyList.append(node4)\n",
    "node3.adjacencyList.append(node5)"
   ]
  },
  {
   "cell_type": "code",
   "execution_count": 18,
   "metadata": {
    "collapsed": true
   },
   "outputs": [],
   "source": [
    "bfs = BFS()"
   ]
  },
  {
   "cell_type": "code",
   "execution_count": 20,
   "metadata": {
    "collapsed": false
   },
   "outputs": [
    {
     "name": "stdout",
     "output_type": "stream",
     "text": [
      "('%s ', 'A')\n",
      "('%s ', 'B')\n",
      "('%s ', 'C')\n",
      "('%s ', 'D')\n",
      "('%s ', 'E')\n"
     ]
    }
   ],
   "source": [
    "bfs.bfs(node1)"
   ]
  },
  {
   "cell_type": "code",
   "execution_count": null,
   "metadata": {
    "collapsed": true
   },
   "outputs": [],
   "source": []
  }
 ],
 "metadata": {
  "kernelspec": {
   "display_name": "Python 2",
   "language": "python",
   "name": "python2"
  },
  "language_info": {
   "codemirror_mode": {
    "name": "ipython",
    "version": 2
   },
   "file_extension": ".py",
   "mimetype": "text/x-python",
   "name": "python",
   "nbconvert_exporter": "python",
   "pygments_lexer": "ipython2",
   "version": "2.7.13"
  }
 },
 "nbformat": 4,
 "nbformat_minor": 2
}
