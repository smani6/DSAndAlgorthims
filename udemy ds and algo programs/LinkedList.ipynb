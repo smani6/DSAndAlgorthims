{
 "cells": [
  {
   "cell_type": "code",
   "execution_count": 23,
   "metadata": {
    "collapsed": true
   },
   "outputs": [],
   "source": [
    "class Node(object):\n",
    "    \n",
    "    def __init__(self,data):\n",
    "        self.data = data\n",
    "        self.nextNode = None"
   ]
  },
  {
   "cell_type": "code",
   "execution_count": 24,
   "metadata": {
    "collapsed": false
   },
   "outputs": [],
   "source": [
    "class LinkedList(object):\n",
    "    \n",
    "    def __init__(self):\n",
    "        self.head = None\n",
    "        self.size = 0\n",
    "        \n",
    "    def insertStart(self,data):\n",
    "        \n",
    "        self.size += 1\n",
    "        newNode = Node(data)\n",
    "        \n",
    "        if not self.head:\n",
    "            self.head = newNode\n",
    "        else:\n",
    "            newNode.nextNode = self.head\n",
    "            self.head = newNode\n",
    "            \n",
    "    def insertEnd(self,data):\n",
    "        \n",
    "        self.size += 1\n",
    "        newNode = Node(data)\n",
    "        currentNode = self.head\n",
    "        \n",
    "        while currentNode.nextNode is not None:\n",
    "            currentNode = currentNode.nextNode\n",
    "        \n",
    "        currentNode.nextNode = newNode\n",
    "        \n",
    "    def traverse(self):\n",
    "        \n",
    "        currentNode = self.head\n",
    "        \n",
    "        while currentNode:\n",
    "            print \"%d \" % currentNode.data\n",
    "            currentNode = currentNode.nextNode\n",
    "            \n",
    "    def remove(self,data):\n",
    "        \n",
    "        self.size -= 1\n",
    "        currentNode = self.head\n",
    "        previousNode = None\n",
    "        \n",
    "        while currentNode.data != data:\n",
    "            previousNode = currentNode\n",
    "            currentNode = currentNode.nextNode\n",
    "            \n",
    "        if previousNode is None:\n",
    "            self.head = currentNode.nextNode\n",
    "        else:\n",
    "            previousNode.nextNode = currentNode.nextNode\n",
    "        "
   ]
  },
  {
   "cell_type": "code",
   "execution_count": 25,
   "metadata": {
    "collapsed": false
   },
   "outputs": [],
   "source": [
    "ll = LinkedList()"
   ]
  },
  {
   "cell_type": "code",
   "execution_count": 26,
   "metadata": {
    "collapsed": false
   },
   "outputs": [],
   "source": [
    "ll.insertStart(12)\n",
    "ll.insertStart(122)\n",
    "ll.insertStart(3)\n",
    "ll.insertEnd(31)"
   ]
  },
  {
   "cell_type": "code",
   "execution_count": 27,
   "metadata": {
    "collapsed": false
   },
   "outputs": [
    {
     "name": "stdout",
     "output_type": "stream",
     "text": [
      "3 \n",
      "122 \n",
      "12 \n",
      "31 \n"
     ]
    }
   ],
   "source": [
    "ll.traverse()"
   ]
  },
  {
   "cell_type": "code",
   "execution_count": 28,
   "metadata": {
    "collapsed": false
   },
   "outputs": [],
   "source": [
    "ll.remove(3)\n",
    "ll.remove(12)\n",
    "ll.remove(122)\n",
    "ll.remove(31)"
   ]
  },
  {
   "cell_type": "code",
   "execution_count": 29,
   "metadata": {
    "collapsed": true
   },
   "outputs": [],
   "source": [
    "ll.traverse()"
   ]
  },
  {
   "cell_type": "code",
   "execution_count": null,
   "metadata": {
    "collapsed": true
   },
   "outputs": [],
   "source": []
  }
 ],
 "metadata": {
  "kernelspec": {
   "display_name": "Python 2",
   "language": "python",
   "name": "python2"
  },
  "language_info": {
   "codemirror_mode": {
    "name": "ipython",
    "version": 2
   },
   "file_extension": ".py",
   "mimetype": "text/x-python",
   "name": "python",
   "nbconvert_exporter": "python",
   "pygments_lexer": "ipython2",
   "version": "2.7.13"
  }
 },
 "nbformat": 4,
 "nbformat_minor": 2
}
