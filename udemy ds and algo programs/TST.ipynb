{
 "cells": [
  {
   "cell_type": "code",
   "execution_count": 29,
   "metadata": {
    "collapsed": true
   },
   "outputs": [],
   "source": [
    "class Node(object):\n",
    "    def __init__(self,character):\n",
    "        self.character = character\n",
    "        self.leftNode = None\n",
    "        self.middleNode = None\n",
    "        self.rightNode = None\n",
    "        self.value = None\n",
    "    "
   ]
  },
  {
   "cell_type": "code",
   "execution_count": 36,
   "metadata": {
    "collapsed": true
   },
   "outputs": [],
   "source": [
    "class TST(object):\n",
    "    def __init__(self):\n",
    "        self.root_node = None\n",
    "        \n",
    "    def put(self,key,value):\n",
    "        self.root_node = self.putItem(self.root_node,key,value,0)\n",
    "        \n",
    "    def putItem(self,node,key,value,index):\n",
    "        \n",
    "        c = key[index]\n",
    "        \n",
    "        if node == None:\n",
    "            node = Node(c)\n",
    "        \n",
    "        if c < node.character:\n",
    "            node.leftNode = self.putItem(node.leftNode,key,value,index)\n",
    "        elif c > node.character:\n",
    "            node.rightNode = self.putItem(node.rightNode,key,value,index)\n",
    "        elif index < len(key) - 1:\n",
    "            node.middleNode = self.putItem(node.middleNode,key,value, index+1)\n",
    "        else:\n",
    "            node.value = value\n",
    "            \n",
    "        return node\n",
    "            \n",
    "    def get(self,key):\n",
    "        \n",
    "        node = self.getItem(self.root_node,key,0)\n",
    "        \n",
    "        if node is None:\n",
    "            return None\n",
    "        \n",
    "        return node.value\n",
    "    \n",
    "    def getItem(self,node,key,index):\n",
    "        \n",
    "        c = key[index]\n",
    "        \n",
    "        if node == None:\n",
    "            return None\n",
    "        \n",
    "        if c < node.character:\n",
    "            return self.getItem(node.leftNode,key,index)\n",
    "        elif c > node.character:\n",
    "            return self.getItem(node.rightNode,key,index)\n",
    "        elif index < len(key)-1:\n",
    "            return self.getItem(node.middleNode,key,index+1)\n",
    "        else:\n",
    "            return node\n",
    "        "
   ]
  },
  {
   "cell_type": "code",
   "execution_count": 37,
   "metadata": {
    "collapsed": false
   },
   "outputs": [],
   "source": [
    "tst = TST()\n",
    "tst.put(\"apple\",100)\n",
    "tst.put(\"orange\",200)"
   ]
  },
  {
   "cell_type": "code",
   "execution_count": 38,
   "metadata": {
    "collapsed": false
   },
   "outputs": [
    {
     "name": "stdout",
     "output_type": "stream",
     "text": [
      "100\n"
     ]
    }
   ],
   "source": [
    "print tst.get(\"apple\")"
   ]
  },
  {
   "cell_type": "code",
   "execution_count": 39,
   "metadata": {
    "collapsed": false
   },
   "outputs": [
    {
     "name": "stdout",
     "output_type": "stream",
     "text": [
      "200\n"
     ]
    }
   ],
   "source": [
    "print tst.get(\"orange\")"
   ]
  },
  {
   "cell_type": "code",
   "execution_count": 40,
   "metadata": {
    "collapsed": false
   },
   "outputs": [
    {
     "name": "stdout",
     "output_type": "stream",
     "text": [
      "None\n"
     ]
    }
   ],
   "source": [
    "print tst.get(\"ap\")"
   ]
  },
  {
   "cell_type": "code",
   "execution_count": null,
   "metadata": {
    "collapsed": true
   },
   "outputs": [],
   "source": []
  }
 ],
 "metadata": {
  "kernelspec": {
   "display_name": "Python 2",
   "language": "python",
   "name": "python2"
  },
  "language_info": {
   "codemirror_mode": {
    "name": "ipython",
    "version": 2
   },
   "file_extension": ".py",
   "mimetype": "text/x-python",
   "name": "python",
   "nbconvert_exporter": "python",
   "pygments_lexer": "ipython2",
   "version": "2.7.13"
  }
 },
 "nbformat": 4,
 "nbformat_minor": 2
}
