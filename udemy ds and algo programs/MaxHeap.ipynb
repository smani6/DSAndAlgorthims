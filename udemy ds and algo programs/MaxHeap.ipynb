{
 "cells": [
  {
   "cell_type": "code",
   "execution_count": 1,
   "metadata": {
    "collapsed": true
   },
   "outputs": [],
   "source": [
    "class MaxHeap(object):\n",
    "\n",
    "    def __init__(self,items=[]):\n",
    "        self.heap = [0]\n",
    "        for i in items:\n",
    "            self.heap.append(i)\n",
    "            self.__floatUp(len(self.heap)-1)\n",
    "    \n",
    "    def __floatUp(self, index):\n",
    "        parent = index // 2\n",
    "        if index<=1:\n",
    "            return\n",
    "        if self.heap[index] > self.heap[parent]:\n",
    "            self.__swap(index,parent)\n",
    "            self.__floatUp(parent)\n",
    "            \n",
    "    def __swap(self,i,j):\n",
    "        self.heap[i], self.heap[j] = self.heap[j], self.heap[i]\n",
    "        \n",
    "    def push(self,item):\n",
    "        \n",
    "        self.heap.append(item)\n",
    "        self.__floatUp(len(self.heap)-1)\n",
    "        \n",
    "    def pop(self):\n",
    "        \n",
    "        if len(self.heap) >= 2:\n",
    "            self.__swap(1,len(self.heap)-1)\n",
    "            max = self.heap.pop()\n",
    "            self.__bubbleDown(1)\n",
    "            \n",
    "        elif len(self.heap) == 2:\n",
    "            max = self.heap.pop()\n",
    "        else:\n",
    "            max = False\n",
    "        return max\n",
    "        \n",
    "        \n",
    "    def __bubbleDown(self,index):\n",
    "        left = index * 2\n",
    "        right = index *2 +1\n",
    "        largest = index\n",
    "        if len(self.heap) > left and self.heap[largest] < self.heap[left]:\n",
    "            largest = left\n",
    "        if len(self.heap) > right and self.heap[largest] < self.heap[right]:\n",
    "            largest = right\n",
    "        if largest != index:\n",
    "            self.__swap(largest,index)\n",
    "            self.__bubbleDown(largest)"
   ]
  },
  {
   "cell_type": "code",
   "execution_count": 4,
   "metadata": {
    "collapsed": true
   },
   "outputs": [],
   "source": [
    "m = MaxHeap([95,3,21])\n",
    "m.push(10)"
   ]
  },
  {
   "cell_type": "code",
   "execution_count": 5,
   "metadata": {
    "collapsed": false
   },
   "outputs": [
    {
     "name": "stdout",
     "output_type": "stream",
     "text": [
      "[0, 95, 10, 21, 3]\n"
     ]
    }
   ],
   "source": [
    "print (str(m.heap[0:len(m.heap)]))"
   ]
  },
  {
   "cell_type": "code",
   "execution_count": 6,
   "metadata": {
    "collapsed": false
   },
   "outputs": [
    {
     "name": "stdout",
     "output_type": "stream",
     "text": [
      "95\n"
     ]
    }
   ],
   "source": [
    "print m.pop()"
   ]
  },
  {
   "cell_type": "code",
   "execution_count": 7,
   "metadata": {
    "collapsed": false
   },
   "outputs": [
    {
     "name": "stdout",
     "output_type": "stream",
     "text": [
      "[0, 21, 10, 3]\n"
     ]
    }
   ],
   "source": [
    "print (str(m.heap))"
   ]
  },
  {
   "cell_type": "code",
   "execution_count": null,
   "metadata": {
    "collapsed": true
   },
   "outputs": [],
   "source": []
  }
 ],
 "metadata": {
  "kernelspec": {
   "display_name": "Python 2",
   "language": "python",
   "name": "python2"
  },
  "language_info": {
   "codemirror_mode": {
    "name": "ipython",
    "version": 2
   },
   "file_extension": ".py",
   "mimetype": "text/x-python",
   "name": "python",
   "nbconvert_exporter": "python",
   "pygments_lexer": "ipython2",
   "version": "2.7.13"
  }
 },
 "nbformat": 4,
 "nbformat_minor": 2
}
