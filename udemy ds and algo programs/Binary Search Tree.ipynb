{
 "cells": [
  {
   "cell_type": "code",
   "execution_count": 14,
   "metadata": {
    "collapsed": true
   },
   "outputs": [],
   "source": [
    "class Node(object):\n",
    "    \n",
    "    def __init__(self,data):\n",
    "        self.data = data\n",
    "        self.leftChild = None\n",
    "        self.rightChild = None"
   ]
  },
  {
   "cell_type": "code",
   "execution_count": 15,
   "metadata": {
    "collapsed": true
   },
   "outputs": [],
   "source": [
    "class BST(object):\n",
    "    \n",
    "    def __init__(self):\n",
    "        self.root = None\n",
    "        \n",
    "    def insert(self,data):\n",
    "        \n",
    "        if not self.root:\n",
    "            self.root = Node(data)\n",
    "        else:\n",
    "            self.insertNode(data,self.root) \n",
    "        \n",
    "    def insertNode(self,data,node):\n",
    "        \n",
    "        if data < node.data:\n",
    "            if node.leftChild:\n",
    "                self.insertNode(data,node.leftChild)\n",
    "            else:\n",
    "                node.leftChild = Node(data)\n",
    "        else:\n",
    "            if node.rightChild:\n",
    "                self.insertNode(data,node.rightChild)\n",
    "            else:\n",
    "                node.rightChild = Node(data)\n",
    "                \n",
    "    def getMin(self):\n",
    "        if self.root:\n",
    "            return self.getMinValue(self.root)\n",
    "        \n",
    "    def getMinValue(self,node):\n",
    "        \n",
    "        if node.leftChild:\n",
    "            self.getMinValue(node.leftChild)\n",
    "            \n",
    "        return \"Min Value %s\" % node.data   \n",
    "    \n",
    "    def getMax(self):\n",
    "        if self.root:\n",
    "            return self.getMaxValue(self.root)\n",
    "        \n",
    "    def getMaxValue(self,node):\n",
    "        \n",
    "        if node.rightChild:\n",
    "            self.getMaxValue(node.rightChild)\n",
    "            \n",
    "        return \"Max value %s\" % node.data\n",
    "\n",
    "    def traverseTree(self):\n",
    "        \n",
    "        if self.root:\n",
    "            self.traverseInOrder(self.root)\n",
    "    \n",
    "    def traverseInOrder(self,node):\n",
    "        \n",
    "        if node.leftChild:\n",
    "            self.traverseInOrder(node.leftChild)\n",
    "            \n",
    "        print (\"%s\" , node.data)\n",
    "        \n",
    "        if node.rightChild:\n",
    "            self.traverseInOrder(node.rightChild)\n",
    "    \n",
    "    \n",
    "    def removeNode(self,data,node):\n",
    "    \n",
    "        if not node:\n",
    "            return node\n",
    "        \n",
    "        if data < node.data:\n",
    "            node.leftChild = self.removeNode(data,node.leftChild)\n",
    "        elif data > node.data:\n",
    "            node.rightChild = self.removeNode(data,node.rightChild)\n",
    "        else:\n",
    "            if not node.leftChild and node.rightChild:\n",
    "                print (\"Deleting leaf node\")\n",
    "                del node\n",
    "                return None\n",
    "            \n",
    "            if not node.leftChild:\n",
    "                print (\"Deleting node with rightChild\")\n",
    "                tmpNode = node.rightChild\n",
    "                del node\n",
    "                return tmpNode\n",
    "            elif not node.rightChild:\n",
    "                print (\"Deleting node with leftChild\")\n",
    "                tmpNode = node.leftChild\n",
    "                del node\n",
    "                return tmpNode\n",
    "            \n",
    "            print (\"Deleting node with both childrens..\")\n",
    "            predecessor = self.getPredecessor(node.leftChild)\n",
    "            node.data = predecessor.data\n",
    "            node.leftChild = self.removeNode(predecessor.data,node.leftChild)\n",
    "            \n",
    "        return node\n",
    "    \n",
    "    def getPredecessor(self,node):\n",
    "        \n",
    "        if node.rightChild:\n",
    "            self.predecessor(node.rightChild)\n",
    "        \n",
    "        return node\n",
    "        \n",
    "    \n",
    "    def remove(self,data):\n",
    "        \n",
    "        if self.root:\n",
    "            return self.removeNode(data,self.root)\n",
    "     "
   ]
  },
  {
   "cell_type": "code",
   "execution_count": 16,
   "metadata": {
    "collapsed": false
   },
   "outputs": [],
   "source": [
    "bst = BST()"
   ]
  },
  {
   "cell_type": "code",
   "execution_count": 17,
   "metadata": {
    "collapsed": false
   },
   "outputs": [
    {
     "name": "stdout",
     "output_type": "stream",
     "text": [
      "Deleting node with rightChild\n"
     ]
    },
    {
     "data": {
      "text/plain": [
       "<__main__.Node at 0x1117510d0>"
      ]
     },
     "execution_count": 17,
     "metadata": {},
     "output_type": "execute_result"
    }
   ],
   "source": [
    "bst.insert(10)\n",
    "bst.insert(13)\n",
    "bst.insert(5)\n",
    "bst.insert(1)\n",
    "bst.remove(13)"
   ]
  },
  {
   "cell_type": "code",
   "execution_count": 18,
   "metadata": {
    "collapsed": false
   },
   "outputs": [
    {
     "name": "stdout",
     "output_type": "stream",
     "text": [
      "('%s', 1)\n",
      "('%s', 5)\n",
      "('%s', 10)\n"
     ]
    }
   ],
   "source": [
    "bst.traverseTree()"
   ]
  },
  {
   "cell_type": "code",
   "execution_count": null,
   "metadata": {
    "collapsed": true
   },
   "outputs": [],
   "source": []
  }
 ],
 "metadata": {
  "kernelspec": {
   "display_name": "Python 2",
   "language": "python",
   "name": "python2"
  },
  "language_info": {
   "codemirror_mode": {
    "name": "ipython",
    "version": 2
   },
   "file_extension": ".py",
   "mimetype": "text/x-python",
   "name": "python",
   "nbconvert_exporter": "python",
   "pygments_lexer": "ipython2",
   "version": "2.7.13"
  }
 },
 "nbformat": 4,
 "nbformat_minor": 2
}
