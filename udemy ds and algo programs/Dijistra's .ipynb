{
 "cells": [
  {
   "cell_type": "code",
   "execution_count": 1,
   "metadata": {
    "collapsed": true
   },
   "outputs": [],
   "source": [
    "import sys\n",
    "import heapq"
   ]
  },
  {
   "cell_type": "code",
   "execution_count": 27,
   "metadata": {
    "collapsed": true
   },
   "outputs": [],
   "source": [
    "class Edge(object):\n",
    "    \n",
    "    def __init__(self,weight,startVertex,targetVertex):\n",
    "        self.weight = weight\n",
    "        self.startVertex = startVertex\n",
    "        self.targetVertex = targetVertex"
   ]
  },
  {
   "cell_type": "code",
   "execution_count": 28,
   "metadata": {
    "collapsed": true
   },
   "outputs": [],
   "source": [
    "class Node(object):\n",
    "    \n",
    "    def __init__(self,name):\n",
    "        self.name = name\n",
    "        self.visited = False\n",
    "        self.predecessor = None\n",
    "        self.minDistance = sys.maxsize\n",
    "        self.adjancenciesList = []\n",
    "        \n",
    "    def __cmp__(self,otherVertex):\n",
    "        return self.cmp(self.minDistance,otherVertex.minDistance)\n",
    "    \n",
    "    def __lt__(self,other):\n",
    "        selfPriority = self.minDistance\n",
    "        otherPriority = other.minDistance\n",
    "        return selfPriority < otherPriority"
   ]
  },
  {
   "cell_type": "code",
   "execution_count": 29,
   "metadata": {
    "collapsed": true
   },
   "outputs": [],
   "source": [
    "class Algorithm(object):\n",
    "    \n",
    "    def calShortestPath(self,vertexList,startVertex):\n",
    "        \n",
    "        q = [];\n",
    "        startVertex.minDistance = 0\n",
    "        heapq.heappush(q,startVertex)\n",
    "        \n",
    "        while len(q) > 0:\n",
    "            \n",
    "            actualVertex = heapq.heappop(q)\n",
    "            \n",
    "            for edge in actualVertex.adjancenciesList:\n",
    "                u = edge.startVertex\n",
    "                v = edge.targetVertex\n",
    "                newDistance = u.minDistance + edge.weight\n",
    "                if newDistance < v.minDistance:\n",
    "                    v.minDistance = newDistance\n",
    "                    v.predecessor = u\n",
    "                    heapq.heappush(q,v)\n",
    "    \n",
    "    def getShortestPath(self,targetVertex):\n",
    "        print (\"Shortest path to vertex is \", targetVertex.minDistance)\n",
    "        \n",
    "        node = targetVertex\n",
    "        \n",
    "        while node:\n",
    "            print (\"%s \", node.name)\n",
    "            node = node.predecessor"
   ]
  },
  {
   "cell_type": "code",
   "execution_count": 30,
   "metadata": {
    "collapsed": true
   },
   "outputs": [],
   "source": [
    "node1 = Node(\"A\")\n",
    "node2 = Node(\"B\")\n",
    "node3 = Node(\"C\")\n",
    "node4 = Node(\"D\")\n",
    "node5 = Node(\"E\")\n",
    "node6 = Node(\"F\")\n",
    "node7 = Node(\"G\")\n",
    "node8 = Node(\"H\")"
   ]
  },
  {
   "cell_type": "code",
   "execution_count": 31,
   "metadata": {
    "collapsed": true
   },
   "outputs": [],
   "source": [
    "edge1 = Edge(5,node1,node2)\n",
    "edge2 = Edge(8,node1,node8)\n",
    "edge3 = Edge(9,node1,node5)\n",
    "edge4 = Edge(15,node2,node4)\n",
    "edge5 = Edge(12,node2,node3)\n",
    "edge6 = Edge(4,node2,node8)\n",
    "edge7 = Edge(7,node8,node3)\n",
    "edge8 = Edge(6,node8,node6)\n",
    "edge9 = Edge(5,node5,node8)\n",
    "edge10 = Edge(4,node5,node6)\n",
    "edge11 = Edge(20,node5,node7)\n",
    "edge12 = Edge(1,node6,node3)\n",
    "edge13 = Edge(13,node6,node7)\n",
    "edge14 = Edge(3,node3,node4)\n",
    "edge15 = Edge(11,node3,node7)\n",
    "edge16 = Edge(9,node4,node7)"
   ]
  },
  {
   "cell_type": "code",
   "execution_count": 32,
   "metadata": {
    "collapsed": false
   },
   "outputs": [],
   "source": [
    "node1.adjancenciesList.append(edge1)\n",
    "node1.adjancenciesList.append(edge2)\n",
    "node1.adjancenciesList.append(edge3)\n",
    "node2.adjancenciesList.append(edge4)\n",
    "node2.adjancenciesList.append(edge5)\n",
    "node8.adjancenciesList.append(edge6)\n",
    "node8.adjancenciesList.append(edge7)\n",
    "node5.adjancenciesList.append(edge8)\n",
    "node5.adjancenciesList.append(edge9)\n",
    "node5.adjancenciesList.append(edge10)\n",
    "node6.adjancenciesList.append(edge11)\n",
    "node6.adjancenciesList.append(edge12)\n",
    "node3.adjancenciesList.append(edge13)\n",
    "node3.adjancenciesList.append(edge14)\n",
    "node4.adjancenciesList.append(edge15)\n",
    "node1.adjancenciesList.append(edge16)\n"
   ]
  },
  {
   "cell_type": "code",
   "execution_count": 33,
   "metadata": {
    "collapsed": true
   },
   "outputs": [],
   "source": [
    "vertexList = (node1,node2,node3,node4,node5,node6,node7,node8)"
   ]
  },
  {
   "cell_type": "code",
   "execution_count": 34,
   "metadata": {
    "collapsed": false
   },
   "outputs": [
    {
     "name": "stdout",
     "output_type": "stream",
     "text": [
      "('Shortest path to vertex is ', 25)\n",
      "('%s ', 'G')\n",
      "('%s ', 'C')\n",
      "('%s ', 'F')\n",
      "('%s ', 'E')\n",
      "('%s ', 'A')\n"
     ]
    }
   ],
   "source": [
    "algo = Algorithm()\n",
    "algo.calShortestPath(vertexList,node1)\n",
    "algo.getShortestPath(node7)"
   ]
  },
  {
   "cell_type": "code",
   "execution_count": null,
   "metadata": {
    "collapsed": true
   },
   "outputs": [],
   "source": []
  }
 ],
 "metadata": {
  "kernelspec": {
   "display_name": "Python 2",
   "language": "python",
   "name": "python2"
  },
  "language_info": {
   "codemirror_mode": {
    "name": "ipython",
    "version": 2
   },
   "file_extension": ".py",
   "mimetype": "text/x-python",
   "name": "python",
   "nbconvert_exporter": "python",
   "pygments_lexer": "ipython2",
   "version": "2.7.13"
  }
 },
 "nbformat": 4,
 "nbformat_minor": 2
}
