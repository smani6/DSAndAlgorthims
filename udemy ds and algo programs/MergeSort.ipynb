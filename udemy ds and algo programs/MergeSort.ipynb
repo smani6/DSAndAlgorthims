{
 "cells": [
  {
   "cell_type": "code",
   "execution_count": 1,
   "metadata": {
    "collapsed": false
   },
   "outputs": [],
   "source": [
    "def merge_sort(arr):\n",
    "    \n",
    "    if len(arr) == 1:\n",
    "        return\n",
    "    \n",
    "    middle_index = len(arr)//2\n",
    "        \n",
    "    left_half = arr[:middle_index]\n",
    "    right_half = arr[middle_index:]\n",
    "    merge_sort(left_half)\n",
    "    merge_sort(right_half)\n",
    "    \n",
    "    i=0\n",
    "    j=0\n",
    "    k=0\n",
    "    \n",
    "    while i<len(left_half) and j<len(right_half):\n",
    "        if left_half[i] < right_half[j]:\n",
    "            arr[k] = left_half[i]\n",
    "            i += 1\n",
    "        else:\n",
    "            arr[k] = right_half[j]\n",
    "            j += 1\n",
    "        k += 1\n",
    "        \n",
    "    while i < len(left_half):\n",
    "        arr[k] = left_half[i]\n",
    "        i += 1\n",
    "        k += 1\n",
    "        \n",
    "    return arr"
   ]
  },
  {
   "cell_type": "code",
   "execution_count": 2,
   "metadata": {
    "collapsed": true
   },
   "outputs": [],
   "source": [
    "nums = [-3,-3,-2,-1,0,10,5,2,4,3,1]"
   ]
  },
  {
   "cell_type": "code",
   "execution_count": 3,
   "metadata": {
    "collapsed": false
   },
   "outputs": [
    {
     "name": "stdout",
     "output_type": "stream",
     "text": [
      "[-3, -3, -2, -1, 0, 10, 5, 2, 4, 3, 1]\n"
     ]
    }
   ],
   "source": [
    "print merge_sort(nums)"
   ]
  },
  {
   "cell_type": "code",
   "execution_count": null,
   "metadata": {
    "collapsed": true
   },
   "outputs": [],
   "source": []
  }
 ],
 "metadata": {
  "kernelspec": {
   "display_name": "Python 2",
   "language": "python",
   "name": "python2"
  },
  "language_info": {
   "codemirror_mode": {
    "name": "ipython",
    "version": 2
   },
   "file_extension": ".py",
   "mimetype": "text/x-python",
   "name": "python",
   "nbconvert_exporter": "python",
   "pygments_lexer": "ipython2",
   "version": "2.7.13"
  }
 },
 "nbformat": 4,
 "nbformat_minor": 2
}
