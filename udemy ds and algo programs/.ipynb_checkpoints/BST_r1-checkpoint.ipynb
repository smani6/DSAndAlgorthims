{
 "cells": [
  {
   "cell_type": "code",
   "execution_count": 1,
   "metadata": {
    "collapsed": true
   },
   "outputs": [],
   "source": [
    "class Node(object):\n",
    "    \n",
    "    def __init__(self,data):\n",
    "        self.data = data\n",
    "        self.leftChild = None\n",
    "        self.rightChild = None\n",
    "        "
   ]
  },
  {
   "cell_type": "code",
   "execution_count": 17,
   "metadata": {
    "collapsed": true
   },
   "outputs": [],
   "source": [
    "class BST(object):\n",
    "    \n",
    "    def __init__(self):\n",
    "        self.root = None\n",
    "        \n",
    "    def insert(self,data):\n",
    "        \n",
    "        if not self.root:\n",
    "            self.root = Node(data)\n",
    "            \n",
    "        else:\n",
    "            self.insertNode(self.root,data)\n",
    "            \n",
    "    def insertNode(self,node,data):\n",
    "        \n",
    "        if not node:\n",
    "            return\n",
    "        \n",
    "        if data < node.data:\n",
    "            if node.leftChild:\n",
    "                self.insertNode(node.leftChild,data)\n",
    "            else:\n",
    "                node.leftChild = Node(data)\n",
    "        else:\n",
    "            if node.rightChild:\n",
    "                self.insertNode(node.rightChild,data)\n",
    "            else:\n",
    "                node.rightChild = Node(data)\n",
    "                \n",
    "    def getMinValue(self):\n",
    "        \n",
    "        if self.root:\n",
    "            return self.getMin(self.root.leftChild)\n",
    "        \n",
    "    def getMin(self,node):\n",
    "        \n",
    "        if node.leftChild:\n",
    "            return self.getMin(node.leftChild)\n",
    "        \n",
    "        return node.data\n",
    "    \n",
    "    def getMaxValue(self):\n",
    "        if self.root:\n",
    "            return self.getMax(self.root.rightChild)\n",
    "        \n",
    "    def getMax(self,node):\n",
    "        if node.rightChild:\n",
    "            return self.getMax(node.rightChild)\n",
    "        return node.data\n",
    "    \n",
    "    def remove(self,data):\n",
    "        \n",
    "        if self.root:\n",
    "            self.root = self.removeNode(self.root,data)\n",
    "                \n",
    "    def removeNode(self,node,data):\n",
    "        \n",
    "        if not node:\n",
    "            return None\n",
    "        \n",
    "        if data < node.data:\n",
    "            node.leftChild = self.removeNode(node.leftChild,data)\n",
    "        elif data > node.data:\n",
    "            node.rightChild = self.removeNode(node.rightChild,data)\n",
    "        else:\n",
    "            \n",
    "            if not node.leftChild and not node.rightChild:\n",
    "                print (\"Removing leaf node\")\n",
    "                del node\n",
    "                return None\n",
    "            \n",
    "            if not node.leftChild:\n",
    "                print (\"Removing node with right child\")\n",
    "                tmpNode = node.rightChild\n",
    "                del node\n",
    "                return tmpNode\n",
    "            \n",
    "            if not node.rightChild:\n",
    "                print (\"Removing node with left child\")\n",
    "                tmpNode = node.leftChild\n",
    "                del node\n",
    "                return tmpNode\n",
    "            \n",
    "            tmpNode = self.getPredecessor(node)\n",
    "            node.data = tmpNode.data\n",
    "            node.leftChild = self.removeNode(tmpNode.data,node.leftChild)\n",
    "            \n",
    "        return node\n",
    "    \n",
    "    def getPredecessor(self,node):\n",
    "        \n",
    "        if node.rightChild:\n",
    "            return self.getPredecessor(node.rightChild)\n",
    "        \n",
    "        return node.data\n",
    "        \n",
    "    def traverse(self):\n",
    "        if self.root:\n",
    "            self.traverseInorder(self.root)\n",
    "            \n",
    "    def traverseInorder(self,node):\n",
    "        \n",
    "        if node.leftChild:\n",
    "            self.traverseInorder(node.leftChild)\n",
    "        \n",
    "        print (\"%s\" % node.data)\n",
    "        \n",
    "        if node.rightChild:\n",
    "            self.traverseInorder(node.rightChild)"
   ]
  },
  {
   "cell_type": "code",
   "execution_count": 18,
   "metadata": {
    "collapsed": true
   },
   "outputs": [],
   "source": [
    "bst = BST()"
   ]
  },
  {
   "cell_type": "code",
   "execution_count": 19,
   "metadata": {
    "collapsed": false
   },
   "outputs": [],
   "source": [
    "bst.insert(10)\n",
    "bst.insert(20)\n",
    "bst.insert(5)\n",
    "bst.insert(6)"
   ]
  },
  {
   "cell_type": "code",
   "execution_count": 20,
   "metadata": {
    "collapsed": false
   },
   "outputs": [
    {
     "name": "stdout",
     "output_type": "stream",
     "text": [
      "5\n",
      "6\n",
      "10\n",
      "20\n"
     ]
    }
   ],
   "source": [
    "bst.traverse()"
   ]
  },
  {
   "cell_type": "code",
   "execution_count": 21,
   "metadata": {
    "collapsed": false
   },
   "outputs": [
    {
     "data": {
      "text/plain": [
       "5"
      ]
     },
     "execution_count": 21,
     "metadata": {},
     "output_type": "execute_result"
    }
   ],
   "source": [
    "bst.getMinValue()"
   ]
  },
  {
   "cell_type": "code",
   "execution_count": 22,
   "metadata": {
    "collapsed": false
   },
   "outputs": [
    {
     "data": {
      "text/plain": [
       "20"
      ]
     },
     "execution_count": 22,
     "metadata": {},
     "output_type": "execute_result"
    }
   ],
   "source": [
    "bst.getMaxValue()"
   ]
  },
  {
   "cell_type": "code",
   "execution_count": 23,
   "metadata": {
    "collapsed": false
   },
   "outputs": [
    {
     "name": "stdout",
     "output_type": "stream",
     "text": [
      "Removing node with right child\n"
     ]
    }
   ],
   "source": [
    "bst.remove(5)"
   ]
  },
  {
   "cell_type": "code",
   "execution_count": 24,
   "metadata": {
    "collapsed": false
   },
   "outputs": [
    {
     "name": "stdout",
     "output_type": "stream",
     "text": [
      "6\n",
      "10\n",
      "20\n"
     ]
    }
   ],
   "source": [
    "bst.traverse()"
   ]
  },
  {
   "cell_type": "code",
   "execution_count": 25,
   "metadata": {
    "collapsed": true
   },
   "outputs": [],
   "source": [
    "bst.insert(5)"
   ]
  },
  {
   "cell_type": "code",
   "execution_count": 26,
   "metadata": {
    "collapsed": false
   },
   "outputs": [
    {
     "name": "stdout",
     "output_type": "stream",
     "text": [
      "5\n",
      "6\n",
      "10\n",
      "20\n"
     ]
    }
   ],
   "source": [
    "bst.traverse()"
   ]
  },
  {
   "cell_type": "code",
   "execution_count": null,
   "metadata": {
    "collapsed": true
   },
   "outputs": [],
   "source": []
  }
 ],
 "metadata": {
  "kernelspec": {
   "display_name": "Python 2",
   "language": "python",
   "name": "python2"
  },
  "language_info": {
   "codemirror_mode": {
    "name": "ipython",
    "version": 2
   },
   "file_extension": ".py",
   "mimetype": "text/x-python",
   "name": "python",
   "nbconvert_exporter": "python",
   "pygments_lexer": "ipython2",
   "version": "2.7.13"
  }
 },
 "nbformat": 4,
 "nbformat_minor": 2
}
