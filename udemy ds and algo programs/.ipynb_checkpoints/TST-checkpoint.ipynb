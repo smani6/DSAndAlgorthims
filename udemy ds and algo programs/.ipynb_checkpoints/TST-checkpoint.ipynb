{
 "cells": [
  {
   "cell_type": "code",
   "execution_count": 1,
   "metadata": {
    "collapsed": true
   },
   "outputs": [],
   "source": [
    "class Node(object):\n",
    "    def __init__(self,character):\n",
    "        self.character = character\n",
    "        self.leftNode = None\n",
    "        self.middleNode = None\n",
    "        self.rightNode = None\n",
    "        self.value = None"
   ]
  },
  {
   "cell_type": "code",
   "execution_count": null,
   "metadata": {
    "collapsed": true
   },
   "outputs": [],
   "source": [
    "class TST(object):\n",
    "    def __init__(self):\n",
    "        self.root_node = None\n",
    "        \n",
    "    def put(self,key,value):\n",
    "        self.putItem(self.root_node,key,value,0)\n",
    "        \n",
    "    def putItem(node,key,value,index):\n",
    "        \n",
    "        c = key[index]\n",
    "        \n",
    "        if node is None:\n",
    "            node = Node(c)\n",
    "        \n",
    "        if c < node.character:\n",
    "            node.leftNode = self.putItem(node.leftNode,c,value,index)\n",
    "        elif c > node.character:\n",
    "            node.rightNode = self.putItem(node.rightNode,c,value,index)\n",
    "        elif index < len(key) - 1:\n",
    "            node.middleNode = self.putItem(node.middleNode,c,value, index+1)\n",
    "        else:\n",
    "            node.value = value\n",
    "            \n",
    "    def get(self,key):\n",
    "        \n",
    "        node = self.getItem(self.root_node,key,0)\n",
    "        \n",
    "        if node is None:\n",
    "            return None\n",
    "        \n",
    "        return node.value\n",
    "    \n",
    "    def getItem(self,node,key,index):\n",
    "        \n",
    "        c = key[index]\n",
    "        \n",
    "        if node == None:\n",
    "            return None\n",
    "        \n",
    "        if c < node.character:\n",
    "            return self.getItem(node.leftNode,c,index)\n",
    "        elif c > node.character:\n",
    "            return self.getItem(node.rightNode,c,index)\n",
    "        elif index < len(key)-1:\n",
    "            return self.getItem(node.middleNone,c,index+1)\n",
    "        else:\n",
    "            return Node\n",
    "        "
   ]
  }
 ],
 "metadata": {
  "kernelspec": {
   "display_name": "Python 2",
   "language": "python",
   "name": "python2"
  },
  "language_info": {
   "codemirror_mode": {
    "name": "ipython",
    "version": 2
   },
   "file_extension": ".py",
   "mimetype": "text/x-python",
   "name": "python",
   "nbconvert_exporter": "python",
   "pygments_lexer": "ipython2",
   "version": "2.7.13"
  }
 },
 "nbformat": 4,
 "nbformat_minor": 2
}
