{
 "cells": [
  {
   "cell_type": "code",
   "execution_count": null,
   "metadata": {
    "collapsed": true
   },
   "outputs": [],
   "source": [
    "#!/bin/python\n",
    "\n",
    "import sys\n",
    "from heapq import heappush, heappop\n",
    "\n",
    "class MinHeap(object):\n",
    "    \n",
    "    def __init__(self): self.h = []\n",
    "    def push(self,key): heappush(self.h,key)\n",
    "    def pop(self): return heappop(self.h)\n",
    "    def peek(self): return self.h[0]\n",
    "    def __len__(self): return len(self.h)\n",
    "    \n",
    "class MaxHeap(object):\n",
    "    \n",
    "    def __init__(self): self.h = []\n",
    "    def push(self,val): heappush(self.h, -val)\n",
    "    def pop(self): return -(heappop(self.h))\n",
    "    def peek(self): return -(self.h[0])\n",
    "    def __len__(self): return len(self.h)\n",
    "    \n",
    "def current_median(n,min_heap,max_heap):\n",
    "    \n",
    "    if len(max_heap)>0 and n>max_heap.peek():\n",
    "        min_heap.push(n)\n",
    "    else:\n",
    "        max_heap.push(n)\n",
    "    balance_heaps(min_heap,max_heap)\n",
    "    if len(max_heap) == len(min_heap):\n",
    "        return (max_heap.peek() + min_heap.peek())/2\n",
    "    return max_heap.peek()\n",
    "    \n",
    "def balance_heaps(min_heap,max_heap):\n",
    "    if len(max_heap)<len(min_heap):\n",
    "        max_heap.push(min_heap.pop())\n",
    "    elif len(max_heap)>len(min_heap)+1:\n",
    "        min_heap.push(max_heap.pop())\n",
    "        \n",
    "n = int(raw_input().strip())\n",
    "a = []\n",
    "a_i = 0\n",
    "max_heap = MaxHeap()\n",
    "min_heap = MinHeap()\n",
    "for a_i in xrange(n):\n",
    "    a_t = int(raw_input().strip())\n",
    "    a.append(a_t)\n",
    "    print(\"%.1f\" % current_median(a_t,min_heap,max_heap))\n",
    "    \n"
   ]
  }
 ],
 "metadata": {
  "kernelspec": {
   "display_name": "Python 2",
   "language": "python",
   "name": "python2"
  },
  "language_info": {
   "codemirror_mode": {
    "name": "ipython",
    "version": 2
   },
   "file_extension": ".py",
   "mimetype": "text/x-python",
   "name": "python",
   "nbconvert_exporter": "python",
   "pygments_lexer": "ipython2",
   "version": "2.7.13"
  }
 },
 "nbformat": 4,
 "nbformat_minor": 2
}
