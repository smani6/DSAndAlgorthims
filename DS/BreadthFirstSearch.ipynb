{
 "cells": [
  {
   "cell_type": "code",
   "execution_count": 3,
   "metadata": {
    "collapsed": false
   },
   "outputs": [],
   "source": [
    "#Breadth-First Search\n",
    "#https://github.com/joeyajames/Python/blob/master/bfs.py"
   ]
  },
  {
   "cell_type": "code",
   "execution_count": 82,
   "metadata": {
    "collapsed": true
   },
   "outputs": [],
   "source": [
    "class Vertex(object):\n",
    "    def __init__(self,n):\n",
    "        self.name = n\n",
    "        self.neighbours = list()\n",
    "        self.distance = 9999\n",
    "        self.color = 'black'\n",
    "        \n",
    "    def add_neighbour(self,v):\n",
    "        if v not in self.neighbours:\n",
    "            self.neighbours.append(v)\n",
    "            self.neighbours.sort()"
   ]
  },
  {
   "cell_type": "code",
   "execution_count": 83,
   "metadata": {
    "collapsed": false
   },
   "outputs": [],
   "source": [
    "class Graph(object):\n",
    "\n",
    "    vertices = {}\n",
    "    \n",
    "    def add_vertex(self,vertex):\n",
    "        if isinstance(vertex,Vertex) and vertex.name not in self.vertices:\n",
    "            self.vertices[vertex.name] = vertex\n",
    "            return True\n",
    "        else:\n",
    "            return False\n",
    "        \n",
    "    def add_edge(self,u,v):\n",
    "        if u in self.vertices and v in self.vertices:\n",
    "            for key,value in self.vertices.items():\n",
    "                if key == u:\n",
    "                    value.add_neighbour(v)\n",
    "                if key == v:\n",
    "                    value.add_neighbour(u)\n",
    "            return True\n",
    "        else:\n",
    "            return False\n",
    "        \n",
    "    def print_graph(self):\n",
    "        for key in sorted(list(self.vertices.keys())):\n",
    "            print (key + str(self.vertices[key].neighbours) + \" \" + str(self.vertices[key].distance))\n",
    "                          \n",
    "    def bfs(self,vert):\n",
    "        q = list()\n",
    "        vert.distance = 0                  \n",
    "        vert.color = \"red\"                  \n",
    "       \n",
    "        for v in vert.neighbours:                  \n",
    "              self.vertices[v].distance = vert.distance +  1           \n",
    "              q.append(v)\n",
    "                          \n",
    "        while len(q) > 0 :\n",
    "            u = q.pop(0)\n",
    "            node_u = self.vertices[u]\n",
    "            node_u.color = \"red\"\n",
    "                          \n",
    "            for v in node_u.neighbours:\n",
    "                node_v = self.vertices[v]\n",
    "                if node_v.color == \"black\":\n",
    "                    q.append(v)\n",
    "                    if node_v.distance > node_u.distance +1:\n",
    "                          node_v.distance = node_u.distance + 1"
   ]
  },
  {
   "cell_type": "code",
   "execution_count": 84,
   "metadata": {
    "collapsed": false
   },
   "outputs": [],
   "source": [
    "g = Graph()\n",
    "a = Vertex('A')\n",
    "g.add_vertex(a)\n",
    "for i in xrange(ord('A'), ord('K')):\n",
    "    g.add_vertex(Vertex(chr(i)))"
   ]
  },
  {
   "cell_type": "code",
   "execution_count": 85,
   "metadata": {
    "collapsed": true
   },
   "outputs": [],
   "source": [
    "edges = ['AB', 'AE', 'BF', 'CG', 'DE', 'DH', 'EH', 'FG', 'FI', 'FJ', 'GJ', 'HI']"
   ]
  },
  {
   "cell_type": "code",
   "execution_count": 86,
   "metadata": {
    "collapsed": false
   },
   "outputs": [],
   "source": [
    "for edge in edges:\n",
    "    g.add_edge(edge[:1], edge[1:])"
   ]
  },
  {
   "cell_type": "code",
   "execution_count": 87,
   "metadata": {
    "collapsed": false
   },
   "outputs": [],
   "source": [
    "g.bfs(a)"
   ]
  },
  {
   "cell_type": "code",
   "execution_count": 88,
   "metadata": {
    "collapsed": false
   },
   "outputs": [
    {
     "name": "stdout",
     "output_type": "stream",
     "text": [
      "A['B', 'E'] 0\n",
      "B['A', 'F'] 1\n",
      "C['G'] 4\n",
      "D['E', 'H'] 2\n",
      "E['A', 'D', 'H'] 1\n",
      "F['B', 'G', 'I', 'J'] 2\n",
      "G['C', 'F', 'J'] 3\n",
      "H['D', 'E', 'I'] 2\n",
      "I['F', 'H'] 3\n",
      "J['F', 'G'] 3\n"
     ]
    }
   ],
   "source": [
    "g.print_graph()"
   ]
  },
  {
   "cell_type": "code",
   "execution_count": null,
   "metadata": {
    "collapsed": true
   },
   "outputs": [],
   "source": []
  }
 ],
 "metadata": {
  "kernelspec": {
   "display_name": "Python 2",
   "language": "python",
   "name": "python2"
  },
  "language_info": {
   "codemirror_mode": {
    "name": "ipython",
    "version": 2
   },
   "file_extension": ".py",
   "mimetype": "text/x-python",
   "name": "python",
   "nbconvert_exporter": "python",
   "pygments_lexer": "ipython2",
   "version": "2.7.13"
  }
 },
 "nbformat": 4,
 "nbformat_minor": 2
}
